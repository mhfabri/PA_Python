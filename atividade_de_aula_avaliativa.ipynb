{
  "nbformat": 4,
  "nbformat_minor": 0,
  "metadata": {
    "colab": {
      "provenance": [],
      "authorship_tag": "ABX9TyOiVsDAyiOi3k/hYlbNDPta",
      "include_colab_link": true
    },
    "kernelspec": {
      "name": "python3",
      "display_name": "Python 3"
    },
    "language_info": {
      "name": "python"
    }
  },
  "cells": [
    {
      "cell_type": "markdown",
      "metadata": {
        "id": "view-in-github",
        "colab_type": "text"
      },
      "source": [
        "<a href=\"https://colab.research.google.com/github/mhfabri/PA_Python/blob/main/atividade_de_aula_avaliativa.ipynb\" target=\"_parent\"><img src=\"https://colab.research.google.com/assets/colab-badge.svg\" alt=\"Open In Colab\"/></a>"
      ]
    },
    {
      "cell_type": "markdown",
      "source": [
        "#atividade da prova"
      ],
      "metadata": {
        "id": "yQaZP7BHDs0X"
      }
    },
    {
      "cell_type": "markdown",
      "source": [
        "1)\tDetector de Fases da Lua (Situação hipotética)\n",
        "Faça um programa que pergunte o dia do mês (1 a 31) Não aceite valores fora desse intervalo.\n",
        "Baseado no dia, informe a provável fase da lua:\n",
        "•  Dia 1 a 7: Lua Nova\n",
        "•  Dia 8 a 14: Quarto Crescente\n",
        "•  Dia 15 a 21: Lua Cheia\n",
        "•  Dia 22 a 29: Quarto Minguante\n",
        "•  Dia 30 ou mais: Início de novo ciclo lunar\n"
      ],
      "metadata": {
        "id": "nwy-_TUGD53W"
      }
    },
    {
      "cell_type": "code",
      "source": [
        "dia = int(input(\"digite uma data: \"))\n",
        "if dia >=1 and dia<=31:\n",
        "  if dia >=1 and dia<=7:\n",
        "    print(\"lua nova\")\n",
        "  elif dia >=8 and dia<=14:\n",
        "    print(\"quarto crescente\")\n",
        "  elif dia >=15 and dia<=21:\n",
        "    print(\"lua cheia\")\n",
        "  elif dia >=22 and dia<=29:\n",
        "    print(\"quarto minguante\")\n",
        "  else:\n",
        "    print(\"início de novo ciclo lunar\")\n",
        "else:\n",
        "  print(\"Data invalida\")"
      ],
      "metadata": {
        "id": "VFZjBoqGDwOf",
        "colab": {
          "base_uri": "https://localhost:8080/"
        },
        "outputId": "469529c1-fb64-4df9-c261-21bc5abd9f12"
      },
      "execution_count": 3,
      "outputs": [
        {
          "output_type": "stream",
          "name": "stdout",
          "text": [
            "digite uma data: 32\n",
            "dia invalido\n"
          ]
        }
      ]
    },
    {
      "cell_type": "markdown",
      "source": [
        "2)\tCrie um programa que simule a entrada de um jogador em uma batalha de RPG. O usuário deverá informar:\n",
        "•\tSua classe: \"mago\", \"guerreiro\" ou \"arqueiro\" (deve dar erro se as entradas forem diferentes dessas.\n",
        "•\tSua energia (valor de 0 a 100)\n",
        "Regras de entrada:\n",
        "•\tMagos: precisam ter energia > 60\n",
        "•\tGuerreiros: energia > 40\n",
        "•\tArqueiros: energia > 50\n",
        "Se puder entrar na batalha, o programa deve calcular um dano base diferente para cada classe:\n",
        "•\tMago: dano = energia × 1.5\n",
        "•\tGuerreiro: dano = energia × 2\n",
        "•\tArqueiro: dano = energia × 1.2\n",
        "O programa deve exibir:\n",
        "•\tSe o jogador pode ou não entrar\n",
        "•\tE, se puder, mostrar seu dano base calculado\n",
        "Exemplo da saída:\n",
        "Classe: guerreiro\n",
        "Energia: 55\n",
        "Você pode entrar na batalha!\n",
        "Dano base: 110.0"
      ],
      "metadata": {
        "id": "RkZTVrs0Eg3k"
      }
    },
    {
      "cell_type": "code",
      "source": [
        "energia = int(input(\"digite sua energia: \"))\n",
        "if energia >=0 and energia <=100:\n",
        "  classe = input(\"digite sua classe: \")\n",
        "  if classe == \"mago\":\n",
        "    multi = energia*1.5\n",
        "    if multi > 60:\n",
        "      print(\"voce pode entrar na batalha, sua energia com o multiplicador de classe fica em:\", multi)\n",
        "    else:\n",
        "      print(\"voce nao pode entrar na batalha, sua energia é muita baixa mesmo com o multiplicador de classe:\", multi)\n",
        "\n",
        "  if classe == \"guerreiro\":\n",
        "    multi = energia*2\n",
        "    if multi > 40:\n",
        "      print(\"voce pode entrar na batalha, sua energia com o multiplicador de classe fica em:\", multi)\n",
        "    else:\n",
        "      print(\"voce nao pode entrar na batalha, sua energia é muita baixa mesmo com o multiplicador de classe:\", multi)\n",
        "\n",
        "\n",
        "  if classe == \"arqueiro\":\n",
        "    multi = energia*1.2\n",
        "    if multi > 50:\n",
        "      print(\"voce pode entrar na batalha, sua energia com o multiplicador de classe fica em:\", multi)\n",
        "    else:\n",
        "      print(\"voce nao pode entrar na batalha, sua energia é muita baixa mesmo com o multiplicador de classe:\", multi)\n",
        "\n",
        "  else:\n",
        "    print(\"classe invalida\")\n",
        "\n",
        "\n",
        "else:\n",
        "  print(\"valor de energia invalido\")"
      ],
      "metadata": {
        "colab": {
          "base_uri": "https://localhost:8080/"
        },
        "id": "mwc4oeFEEntS",
        "outputId": "c37637be-8ecb-4e2e-e3f4-e71aaa387017"
      },
      "execution_count": 12,
      "outputs": [
        {
          "output_type": "stream",
          "name": "stdout",
          "text": [
            "digite sua energia: 100\n",
            "digite sua classe: morte\n",
            "classe invalida\n"
          ]
        }
      ]
    },
    {
      "cell_type": "markdown",
      "source": [
        "Descrição do Algoritmo:\n",
        "1. Início\n",
        "•\tSolicita-se a renda familiar mensal (em reais).\n",
        "2. Validação da Renda\n",
        "•\tSe a renda familiar for menor que 0, exibir:\n",
        "➤ \"Renda inválida\"\n",
        "•\tSe a renda familiar for maior que R$ 5.000, exibir:\n",
        "➤ \"Não participa da bolsa. Só participam candidatos com renda menor ou igual a R$ 5.000.\"\n",
        "3. Tipo de Escola\n",
        "•\tSolicitar o tipo de escola do candidato: \"pública\" ou \"particular\".\n",
        "•\tSe for outro valor, exibir:\n",
        "➤ \"Tipo de escola inválido\"\n",
        "➤ Encerrar o programa.\n",
        "4. Notas Anuais\n",
        "•\tSolicitar as três últimas notas anuais nas disciplinas:\n",
        "o\tMatemática\n",
        "o\tPortuguês\n",
        "o\tConhecimentos Gerais\n",
        "•\tPara cada nota, validar se está entre 1 e 10:\n",
        "o\tSe alguma estiver fora desse intervalo, exibir erro específico:\n",
        "➤ \"Nota inválida. Reinicie o preenchimento.\"\n",
        "➤ Encerrar o programa.\n",
        "•\tCalcular a média simples das três notas.\n",
        "Observação: Essa média poderá ser superior a 10 após os bônus.\n",
        "\n",
        "Processamento por Tipo de Escola e Média\n",
        "Se a escola for pública:\n",
        "Média ≥ 8:\n",
        "•\tAumentar a média em 20%;\n",
        "•\tSe a renda < R$ 3.000, aplicar mais 15% sobre o novo valor da média.\n",
        "Média ≥ 6 e < 8:\n",
        "•\tAumentar a média em 10%;\n",
        "•\tSe a renda < R$ 3.000, aplicar mais 5% sobre o novo valor da média.\n",
        "Média < 6:\n",
        "•\tExibir:\n",
        "➤ \"Não concorre à bolsa por nota baixa.\"\n",
        "Se a escola for particular:\n",
        "Média ≥ 8:\n",
        "•\tAumentar a média em 5%;\n",
        "•\tSe a renda < R$ 3.000, aplicar mais 15% sobre o novo valor da média.\n",
        "Média ≥ 6 e < 8:\n",
        "•\tAumentar a média em 2,5%;\n",
        "•\tSe a renda < R$ 3.000, aplicar mais 2% sobre o novo valor da média.\n",
        "Média < 6:\n",
        "•\tExibir:\n",
        "➤ \"Não concorre à bolsa por nota baixa.\"\n",
        "\n"
      ],
      "metadata": {
        "id": "PTAdzpBBM3cz"
      }
    },
    {
      "cell_type": "code",
      "source": [
        "renda = float(input(\"Digite sua renda familiar (em reais): R$\"))\n",
        "\n",
        "if renda <=0:\n",
        "  print(\"Renda invalida\")\n",
        "else:\n",
        "  if renda>5000:\n",
        "    print(\"Não participa da bolsa. Só participam candidatos com renda menor ou igual a R$ 5.000.\")\n",
        "  else:\n",
        "\n",
        "\n",
        "\n",
        "    escola = input(\"Informe o tipo de escola em que estudou: \")\n",
        "\n",
        "\n",
        "    if escola == \"publica\":\n",
        "      matematica = int(input(\"Digite sua nota final da matéria de Matematica: \"))\n",
        "      if matematica <0 and matematica>10:\n",
        "        print(\"Nota invalida. Reinicie o preenchimento.\")\n",
        "      portugues = int(input(\"Digite sua nota final da matéria de Portugues: \"))\n",
        "      if portugues <0 and portugues>10:\n",
        "        print(\"Nota invalida. Reinicie o preenchimento.\")\n",
        "      gerais = int(input(\"Digite sua nota final dos conhecimentos gerais: \"))\n",
        "      if gerais <0 and gerais>10:\n",
        "        print(\"Nota invalida. Reinicie o preenchimento.\")\n",
        "\n",
        "      media = (matematica+portugues+gerais)/3\n",
        "\n",
        "      if media>=8:\n",
        "        media = (media*20)/100+media\n",
        "        if renda<3000:\n",
        "          media = (media*15)/100+media\n",
        "        print(f\"sua media com todos os bonus é de: {media}. Sendo assim poderá participar da bolsa.\")\n",
        "\n",
        "      elif media >=6 and media <8:\n",
        "        media = (media*10)/100+media\n",
        "        if renda<3000:\n",
        "          media = (media*5)/100+media\n",
        "        print(f\"sua media com todos os bonus é de: {media}. Sendo assim poderá participar da bolsa.\")\n",
        "      else:\n",
        "        print(\"Voce nao podera concorrer para bolsa por falta de nota\")\n",
        "\n",
        "\n",
        "    elif escola == \"particular\":\n",
        "\n",
        "      matematica = int(input(\"Digite sua nota final da matéria de Matematica: \"))\n",
        "      if matematica <0 and matematica>10:\n",
        "        print(\"Nota invalida. Reinicie o preenchimento.\")\n",
        "      portugues = int(input(\"Digite sua nota final da matéria de Portugues: \"))\n",
        "      if portugues <0 and portugues>10:\n",
        "        print(\"Nota invalida. Reinicie o preenchimento.\")\n",
        "      gerais = int(input(\"Digite sua nota final dos conhecimentos gerais: \"))\n",
        "      if gerais <0 and gerais>10:\n",
        "        print(\"Nota invalida. Reinicie o preenchimento.\")\n",
        "\n",
        "      media = (matematica+portugues+gerais)/3\n",
        "\n",
        "      if media>=8:\n",
        "        media = (media*5)/100+media\n",
        "        if renda<3000:\n",
        "          media = (media*15)/100+media\n",
        "        print(f\"sua media com todos os bonus é de: {media}. Sendo assim poderá participar da bolsa.\")\n",
        "\n",
        "      elif media >=6 and media <8:\n",
        "        media = (media*2.5)/100+media\n",
        "        if renda<3000:\n",
        "          media = (media*2)/100+media\n",
        "        print(f\"sua media com todos os bonus é de: {media}. Sendo assim poderá participar da bolsa.\")\n",
        "\n",
        "      else:\n",
        "        print(\"Voce nao podera concorrer para bolsa por falta de nota\")\n",
        "\n",
        "\n",
        "    else:\n",
        "      print(\"Tipo de escolaridade invalida.\")\n",
        "\n"
      ],
      "metadata": {
        "colab": {
          "base_uri": "https://localhost:8080/"
        },
        "id": "SK1XbHQvNOnK",
        "outputId": "1131ebfc-8d85-4283-b1d1-9179327b9945"
      },
      "execution_count": 33,
      "outputs": [
        {
          "output_type": "stream",
          "name": "stdout",
          "text": [
            "Digite sua renda familiar (em reais): R$5000\n",
            "Informe o tipo de escola em que estudou: particular\n",
            "Digite sua nota final da matéria de Matematica: 10\n",
            "Digite sua nota final da matéria de Portugues: 10\n",
            "Digite sua nota final dos conhecimentos gerais: 10\n",
            "sua media com todos os bonus é de: 10.5. Sendo assim poderá participar da bolsa.\n"
          ]
        }
      ]
    }
  ]
}